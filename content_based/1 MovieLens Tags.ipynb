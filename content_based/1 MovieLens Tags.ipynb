{
 "cells": [
  {
   "cell_type": "markdown",
   "metadata": {},
   "source": [
    "## Добрый день если вы это читаете значит я не успел сделать третью лабу до того как вы её проверите."
   ]
  },
  {
   "cell_type": "code",
   "execution_count": 1,
   "metadata": {
    "collapsed": true,
    "slideshow": {
     "slide_type": "slide"
    }
   },
   "outputs": [],
   "source": [
    "# считывает MovieLens\n",
    "from os import path\n",
    "import pandas as pd\n",
    "\n",
    "data_dir = \"./ml-latest-small\"\n",
    "\n",
    "def read_csv(filename: str):\n",
    "    data = pd.read_csv(path.join(data_dir, filename + \".csv\"))\n",
    "    return data\n",
    "\n",
    "ratings = read_csv(\"ratings\")\n",
    "movies = read_csv(\"movies\")\n",
    "tags = read_csv(\"tags\")"
   ]
  },
  {
   "cell_type": "code",
   "execution_count": 3,
   "metadata": {},
   "outputs": [
    {
     "data": {
      "text/html": [
       "<div>\n",
       "<style>\n",
       "    .dataframe thead tr:only-child th {\n",
       "        text-align: right;\n",
       "    }\n",
       "\n",
       "    .dataframe thead th {\n",
       "        text-align: left;\n",
       "    }\n",
       "\n",
       "    .dataframe tbody tr th {\n",
       "        vertical-align: top;\n",
       "    }\n",
       "</style>\n",
       "<table border=\"1\" class=\"dataframe\">\n",
       "  <thead>\n",
       "    <tr style=\"text-align: right;\">\n",
       "      <th></th>\n",
       "      <th>movieId</th>\n",
       "      <th>title</th>\n",
       "      <th>genres</th>\n",
       "      <th>movie_id</th>\n",
       "    </tr>\n",
       "  </thead>\n",
       "  <tbody>\n",
       "    <tr>\n",
       "      <th>0</th>\n",
       "      <td>1</td>\n",
       "      <td>Toy Story (1995)</td>\n",
       "      <td>Adventure|Animation|Children|Comedy|Fantasy</td>\n",
       "      <td>1</td>\n",
       "    </tr>\n",
       "    <tr>\n",
       "      <th>1</th>\n",
       "      <td>2</td>\n",
       "      <td>Jumanji (1995)</td>\n",
       "      <td>Adventure|Children|Fantasy</td>\n",
       "      <td>2</td>\n",
       "    </tr>\n",
       "    <tr>\n",
       "      <th>2</th>\n",
       "      <td>3</td>\n",
       "      <td>Grumpier Old Men (1995)</td>\n",
       "      <td>Comedy|Romance</td>\n",
       "      <td>3</td>\n",
       "    </tr>\n",
       "    <tr>\n",
       "      <th>3</th>\n",
       "      <td>4</td>\n",
       "      <td>Waiting to Exhale (1995)</td>\n",
       "      <td>Comedy|Drama|Romance</td>\n",
       "      <td>4</td>\n",
       "    </tr>\n",
       "    <tr>\n",
       "      <th>4</th>\n",
       "      <td>5</td>\n",
       "      <td>Father of the Bride Part II (1995)</td>\n",
       "      <td>Comedy</td>\n",
       "      <td>5</td>\n",
       "    </tr>\n",
       "  </tbody>\n",
       "</table>\n",
       "</div>"
      ],
      "text/plain": [
       "   movieId                               title  \\\n",
       "0        1                    Toy Story (1995)   \n",
       "1        2                      Jumanji (1995)   \n",
       "2        3             Grumpier Old Men (1995)   \n",
       "3        4            Waiting to Exhale (1995)   \n",
       "4        5  Father of the Bride Part II (1995)   \n",
       "\n",
       "                                        genres  movie_id  \n",
       "0  Adventure|Animation|Children|Comedy|Fantasy         1  \n",
       "1                   Adventure|Children|Fantasy         2  \n",
       "2                               Comedy|Romance         3  \n",
       "3                         Comedy|Drama|Romance         4  \n",
       "4                                       Comedy         5  "
      ]
     },
     "execution_count": 3,
     "metadata": {},
     "output_type": "execute_result"
    }
   ],
   "source": [
    "\n",
    "movies.head()"
   ]
  },
  {
   "cell_type": "code",
   "execution_count": 7,
   "metadata": {},
   "outputs": [
    {
     "name": "stdout",
     "output_type": "stream",
     "text": [
      "<class 'pandas.core.frame.DataFrame'>\n",
      "RangeIndex: 9125 entries, 0 to 9124\n",
      "Data columns (total 4 columns):\n",
      "movieId     9125 non-null int64\n",
      "title       9125 non-null object\n",
      "genres      9125 non-null object\n",
      "movie_id    9125 non-null int16\n",
      "dtypes: int16(1), int64(1), object(2)\n",
      "memory usage: 231.8+ KB\n"
     ]
    }
   ],
   "source": [
    "movies.info()"
   ]
  },
  {
   "cell_type": "code",
   "execution_count": 6,
   "metadata": {},
   "outputs": [
    {
     "name": "stdout",
     "output_type": "stream",
     "text": [
      "<class 'pandas.core.frame.DataFrame'>\n",
      "RangeIndex: 1296 entries, 0 to 1295\n",
      "Data columns (total 5 columns):\n",
      "userId       1296 non-null int64\n",
      "movieId      1296 non-null int64\n",
      "tag          1296 non-null object\n",
      "timestamp    1296 non-null int64\n",
      "tag_id       1296 non-null int16\n",
      "dtypes: int16(1), int64(3), object(1)\n",
      "memory usage: 43.1+ KB\n"
     ]
    }
   ],
   "source": [
    "tags.info()"
   ]
  },
  {
   "cell_type": "code",
   "execution_count": 56,
   "metadata": {},
   "outputs": [],
   "source": [
    "movies[\"movie_id\"] = movies[\"movieId\"].astype(\"category\").cat.codes.copy()\n",
    "tags[\"tag_id\"] = tags[\"tag\"].astype(\"category\").cat.codes.copy()"
   ]
  },
  {
   "cell_type": "code",
   "execution_count": 43,
   "metadata": {},
   "outputs": [],
   "source": [
    "mov_tag = pd.merge(movies, tags, how = 'left')"
   ]
  },
  {
   "cell_type": "code",
   "execution_count": 44,
   "metadata": {},
   "outputs": [
    {
     "data": {
      "text/html": [
       "<div>\n",
       "<style>\n",
       "    .dataframe thead tr:only-child th {\n",
       "        text-align: right;\n",
       "    }\n",
       "\n",
       "    .dataframe thead th {\n",
       "        text-align: left;\n",
       "    }\n",
       "\n",
       "    .dataframe tbody tr th {\n",
       "        vertical-align: top;\n",
       "    }\n",
       "</style>\n",
       "<table border=\"1\" class=\"dataframe\">\n",
       "  <thead>\n",
       "    <tr style=\"text-align: right;\">\n",
       "      <th></th>\n",
       "      <th>movieId</th>\n",
       "      <th>movie_id</th>\n",
       "      <th>userId</th>\n",
       "      <th>timestamp</th>\n",
       "      <th>tag_id</th>\n",
       "    </tr>\n",
       "  </thead>\n",
       "  <tbody>\n",
       "    <tr>\n",
       "      <th>count</th>\n",
       "      <td>9732.000000</td>\n",
       "      <td>9732.000000</td>\n",
       "      <td>1296.000000</td>\n",
       "      <td>1.296000e+03</td>\n",
       "      <td>1296.000000</td>\n",
       "    </tr>\n",
       "    <tr>\n",
       "      <th>mean</th>\n",
       "      <td>31671.091759</td>\n",
       "      <td>4582.677250</td>\n",
       "      <td>417.026235</td>\n",
       "      <td>1.324337e+09</td>\n",
       "      <td>336.520833</td>\n",
       "    </tr>\n",
       "    <tr>\n",
       "      <th>std</th>\n",
       "      <td>40931.884839</td>\n",
       "      <td>2655.799027</td>\n",
       "      <td>142.183440</td>\n",
       "      <td>1.093886e+08</td>\n",
       "      <td>171.388852</td>\n",
       "    </tr>\n",
       "    <tr>\n",
       "      <th>min</th>\n",
       "      <td>1.000000</td>\n",
       "      <td>1.000000</td>\n",
       "      <td>15.000000</td>\n",
       "      <td>1.137217e+09</td>\n",
       "      <td>1.000000</td>\n",
       "    </tr>\n",
       "    <tr>\n",
       "      <th>25%</th>\n",
       "      <td>2828.750000</td>\n",
       "      <td>2266.750000</td>\n",
       "      <td>346.000000</td>\n",
       "      <td>1.243455e+09</td>\n",
       "      <td>199.750000</td>\n",
       "    </tr>\n",
       "    <tr>\n",
       "      <th>50%</th>\n",
       "      <td>6371.500000</td>\n",
       "      <td>4608.500000</td>\n",
       "      <td>431.000000</td>\n",
       "      <td>1.342849e+09</td>\n",
       "      <td>336.000000</td>\n",
       "    </tr>\n",
       "    <tr>\n",
       "      <th>75%</th>\n",
       "      <td>58426.750000</td>\n",
       "      <td>6913.250000</td>\n",
       "      <td>547.000000</td>\n",
       "      <td>1.440380e+09</td>\n",
       "      <td>513.000000</td>\n",
       "    </tr>\n",
       "    <tr>\n",
       "      <th>max</th>\n",
       "      <td>164979.000000</td>\n",
       "      <td>9125.000000</td>\n",
       "      <td>663.000000</td>\n",
       "      <td>1.476651e+09</td>\n",
       "      <td>582.000000</td>\n",
       "    </tr>\n",
       "  </tbody>\n",
       "</table>\n",
       "</div>"
      ],
      "text/plain": [
       "             movieId     movie_id       userId     timestamp       tag_id\n",
       "count    9732.000000  9732.000000  1296.000000  1.296000e+03  1296.000000\n",
       "mean    31671.091759  4582.677250   417.026235  1.324337e+09   336.520833\n",
       "std     40931.884839  2655.799027   142.183440  1.093886e+08   171.388852\n",
       "min         1.000000     1.000000    15.000000  1.137217e+09     1.000000\n",
       "25%      2828.750000  2266.750000   346.000000  1.243455e+09   199.750000\n",
       "50%      6371.500000  4608.500000   431.000000  1.342849e+09   336.000000\n",
       "75%     58426.750000  6913.250000   547.000000  1.440380e+09   513.000000\n",
       "max    164979.000000  9125.000000   663.000000  1.476651e+09   582.000000"
      ]
     },
     "execution_count": 44,
     "metadata": {},
     "output_type": "execute_result"
    }
   ],
   "source": [
    "mov_tag.describe()"
   ]
  },
  {
   "cell_type": "code",
   "execution_count": 46,
   "metadata": {},
   "outputs": [
    {
     "name": "stdout",
     "output_type": "stream",
     "text": [
      "<class 'pandas.core.frame.DataFrame'>\n",
      "Int64Index: 9732 entries, 0 to 9731\n",
      "Data columns (total 8 columns):\n",
      "movieId      9732 non-null int64\n",
      "title        9732 non-null object\n",
      "genres       9732 non-null object\n",
      "movie_id     9732 non-null int16\n",
      "userId       1296 non-null float64\n",
      "tag          1296 non-null object\n",
      "timestamp    1296 non-null float64\n",
      "tag_id       1296 non-null float64\n",
      "dtypes: float64(3), int16(1), int64(1), object(3)\n",
      "memory usage: 627.3+ KB\n"
     ]
    }
   ],
   "source": [
    "mov_tag.info()"
   ]
  },
  {
   "cell_type": "code",
   "execution_count": 53,
   "metadata": {},
   "outputs": [],
   "source": [
    "mov_tag.dropna(inplace=True)\n",
    "#tag.fillna(\"None\", inplace=True)\n"
   ]
  },
  {
   "cell_type": "code",
   "execution_count": null,
   "metadata": {
    "collapsed": true
   },
   "outputs": [],
   "source": []
  },
  {
   "cell_type": "code",
   "execution_count": 8,
   "metadata": {
    "collapsed": true
   },
   "outputs": [],
   "source": [
    "# функция, которая красиво печатает информацию о разреженных матрицах\n",
    "from scipy.sparse import csr_matrix\n",
    "\n",
    "def sparse_info(sparse_matrix: csr_matrix) -> None:\n",
    "    print(\"Размерности матрицы: {}\".format(sparse_matrix.shape))\n",
    "    print(\"Ненулевых элементов в матрице: {}\".format(sparse_matrix.nnz))\n",
    "    print(\"Доля ненулевых элементов: {}\"\n",
    "          .format(sparse_matrix.nnz / sparse_matrix.shape[0] / sparse_matrix.shape[1])\n",
    "    )\n",
    "    print(\"Среднее значение ненулевых элементов: {}\".format(sparse_matrix.data.mean()))\n",
    "    print(\"Максимальное значение ненулевых элементов: {}\".format(sparse_matrix.data.max()))\n",
    "    print(\"Минимальное значение ненулевых элементов: {}\".format(sparse_matrix.data.min()))"
   ]
  },
  {
   "cell_type": "code",
   "execution_count": 9,
   "metadata": {
    "collapsed": true
   },
   "outputs": [],
   "source": [
    "from scipy.sparse import csr_matrix\n",
    "import numpy as np\n"
   ]
  },
  {
   "cell_type": "code",
   "execution_count": null,
   "metadata": {},
   "outputs": [],
   "source": [
    "#last_movie_id = mov_tag[\"movie_id\"].max()\n",
    "#last_tag_id = mov_tag[\"movie_id\"].max()"
   ]
  },
  {
   "cell_type": "code",
   "execution_count": null,
   "metadata": {
    "slideshow": {
     "slide_type": "slide"
    }
   },
   "outputs": [],
   "source": [
    "# переводим матрицу взаимодействий фильмов и тегов к разреженному виду\n",
    "#from scipy.sparse import csr_matrix\n",
    "#import numpy as np\n",
    "\n",
    "#movie_x_tag\n",
    "#import numpy as np\n",
    "#movie_x_tag = mov_tag[[\"movie_id\", \"tag_id\"]].as_matrix()\n",
    "#import numpy as np\n",
    "\n",
    "#movie_x_tag\n",
    "#movie_x_tag\n"
   ]
  },
  {
   "cell_type": "code",
   "execution_count": 57,
   "metadata": {},
   "outputs": [],
   "source": [
    "data = []\n",
    "for i in mov_tag[\"movie_id\"]:\n",
    "    data.append(1)\n"
   ]
  },
  {
   "cell_type": "code",
   "execution_count": 58,
   "metadata": {},
   "outputs": [
    {
     "data": {
      "text/plain": [
       "1296"
      ]
     },
     "execution_count": 58,
     "metadata": {},
     "output_type": "execute_result"
    }
   ],
   "source": [
    "len(data)"
   ]
  },
  {
   "cell_type": "code",
   "execution_count": 34,
   "metadata": {},
   "outputs": [
    {
     "data": {
      "text/plain": [
       "9125"
      ]
     },
     "execution_count": 34,
     "metadata": {},
     "output_type": "execute_result"
    }
   ],
   "source": [
    "last_movie_id = len(movies[\"movie_id\"])\n",
    "last_movie_id "
   ]
  },
  {
   "cell_type": "code",
   "execution_count": 35,
   "metadata": {},
   "outputs": [
    {
     "data": {
      "text/plain": [
       "582"
      ]
     },
     "execution_count": 35,
     "metadata": {},
     "output_type": "execute_result"
    }
   ],
   "source": [
    "last_tag_id = len(tags[\"tag_id\"].unique())\n",
    "last_tag_id"
   ]
  },
  {
   "cell_type": "code",
   "execution_count": 61,
   "metadata": {},
   "outputs": [
    {
     "name": "stdout",
     "output_type": "stream",
     "text": [
      "Размерности матрицы: (9126, 583)\n",
      "Ненулевых элементов в матрице: 1296\n",
      "Доля ненулевых элементов: 0.0002435880520060491\n",
      "Среднее значение ненулевых элементов: 1.0\n",
      "Максимальное значение ненулевых элементов: 1\n",
      "Минимальное значение ненулевых элементов: 1\n"
     ]
    }
   ],
   "source": [
    "from scipy.sparse import coo_matrix\n",
    "import numpy as np\n",
    "movie_tag_matrix = coo_matrix((\n",
    "    data,\n",
    "    (\n",
    "        mov_tag[\"movie_id\"],\n",
    "        mov_tag[\"tag_id\"]\n",
    "    )\n",
    "))\n",
    "\n",
    "sparse_info(movie_tag_matrix)"
   ]
  },
  {
   "cell_type": "code",
   "execution_count": 62,
   "metadata": {
    "collapsed": true
   },
   "outputs": [],
   "source": [
    "test_indices = np.random.choice(\n",
    "    ratings.index.values,\n",
    "    replace=False,\n",
    "    size=int(len(ratings.index.values) * 0.2)\n",
    ")\n",
    "test_data = ratings.iloc[test_indices]\n",
    "train_data = ratings.drop(test_indices)"
   ]
  },
  {
   "cell_type": "code",
   "execution_count": 63,
   "metadata": {},
   "outputs": [
    {
     "data": {
      "text/plain": [
       "(80004, 4)"
      ]
     },
     "execution_count": 63,
     "metadata": {},
     "output_type": "execute_result"
    }
   ],
   "source": [
    "train_data.shape"
   ]
  },
  {
   "cell_type": "code",
   "execution_count": 64,
   "metadata": {},
   "outputs": [
    {
     "name": "stdout",
     "output_type": "stream",
     "text": [
      "строим матрицу схожести по косинусной мере\n",
      "построили матрицу схожести по косинусной мере за 0.02950739860534668 секунд\n",
      "Размерности матрицы: (9126, 9126)\n",
      "Ненулевых элементов в матрице: 8368\n",
      "Доля ненулевых элементов: 0.00010047563108133921\n",
      "Среднее значение ненулевых элементов: 0.8210259878428978\n",
      "Максимальное значение ненулевых элементов: 2.0\n",
      "Минимальное значение ненулевых элементов: 0.0\n"
     ]
    }
   ],
   "source": [
    "import time\n",
    "from implicit.nearest_neighbours import CosineRecommender\n",
    "\n",
    "model = CosineRecommender()\n",
    "print(\"строим матрицу схожести по косинусной мере\")\n",
    "start = time.time()\n",
    "model.fit(movie_tag_matrix)\n",
    "print(\"построили матрицу схожести по косинусной мере за {} секунд\".format(\n",
    "        time.time() - start))\n",
    "sparse_info(model.similarity)"
   ]
  },
  {
   "cell_type": "code",
   "execution_count": 66,
   "metadata": {},
   "outputs": [
    {
     "name": "stdout",
     "output_type": "stream",
     "text": [
      "<class 'pandas.core.frame.DataFrame'>\n",
      "Int64Index: 20000 entries, 8244 to 16341\n",
      "Data columns (total 4 columns):\n",
      "userId       20000 non-null int64\n",
      "movieId      20000 non-null int64\n",
      "rating       20000 non-null float64\n",
      "timestamp    20000 non-null int64\n",
      "dtypes: float64(1), int64(3)\n",
      "memory usage: 781.2 KB\n"
     ]
    }
   ],
   "source": [
    "test_data.info()"
   ]
  },
  {
   "cell_type": "code",
   "execution_count": 68,
   "metadata": {},
   "outputs": [
    {
     "name": "stdout",
     "output_type": "stream",
     "text": [
      "<class 'pandas.core.frame.DataFrame'>\n",
      "Int64Index: 80004 entries, 0 to 100003\n",
      "Data columns (total 4 columns):\n",
      "userId       80004 non-null int64\n",
      "movieId      80004 non-null int64\n",
      "rating       80004 non-null float64\n",
      "timestamp    80004 non-null int64\n",
      "dtypes: float64(1), int64(3)\n",
      "memory usage: 3.1 MB\n"
     ]
    }
   ],
   "source": [
    "train_data.info()"
   ]
  },
  {
   "cell_type": "code",
   "execution_count": null,
   "metadata": {},
   "outputs": [],
   "source": [
    "sparse_info(movie_tag_matrix)"
   ]
  },
  {
   "cell_type": "code",
   "execution_count": null,
   "metadata": {},
   "outputs": [],
   "source": [
    "pre = []\n",
    "print(\"получаем рекомендации для всех пользователей\")\n",
    "start = time.time()\n",
    "movie_matrix = movie_tag_matrix.tocsr()\n",
    "for mov_id in mov_tag[\"movie_id\"]:\n",
    "    for movie_id_rec, score in model.recommend(movies, movie_tag_matrix):\n",
    "         pre.append((mov_id, movie_id_rec, score))\n",
    "print(\"получили рекомендации для всех пользователей за {} секнуд\".format(\n",
    "        time.time() - start))"
   ]
  },
  {
   "cell_type": "code",
   "execution_count": null,
   "metadata": {
    "collapsed": true,
    "slideshow": {
     "slide_type": "slide"
    }
   },
   "outputs": [],
   "source": [
    "# разобьём наблюдения на тестовую и обучающую выборки\n",
    "np.random.seed(0)\n",
    "test_indices = np.random.choice(\n",
    "    range(user_item_matrix.nnz),\n",
    "    replace=False,\n",
    "    size=int(user_item_matrix.nnz * 0.2)\n",
    ").tolist()\n",
    "train_data = user_item_matrix.copy()\n",
    "train_data.data[test_indices] = 0\n",
    "train_data.eliminate_zeros()\n",
    "print(\"размер обучающей выборки: {}\".format(train_data.nnz))\n",
    "test_data = user_item_matrix.copy()\n",
    "test_data.data[:] = 0\n",
    "test_data.data[test_indices] = user_item_matrix.data[test_indices]\n",
    "test_data.eliminate_zeros()\n",
    "print(\"размер тестовой выборки: {}\".format(test_data.nnz))"
   ]
  },
  {
   "cell_type": "code",
   "execution_count": null,
   "metadata": {
    "collapsed": true
   },
   "outputs": [],
   "source": []
  },
  {
   "cell_type": "code",
   "execution_count": null,
   "metadata": {
    "collapsed": true
   },
   "outputs": [],
   "source": []
  },
  {
   "cell_type": "code",
   "execution_count": null,
   "metadata": {
    "collapsed": true
   },
   "outputs": [],
   "source": []
  },
  {
   "cell_type": "code",
   "execution_count": null,
   "metadata": {
    "slideshow": {
     "slide_type": "slide"
    }
   },
   "outputs": [],
   "source": [
    "from lightfm import LightFM\n",
    "from lightfm.evaluation import precision_at_k, reciprocal_rank\n",
    "\n",
    "# обучаем абы какую модель\n",
    "model = LightFM(loss=\"bpr\")\n",
    "model.fit(\n",
    "    train_data,\n",
    "    num_threads=4\n",
    ")\n",
    "\n",
    "train_mrr = reciprocal_rank(model, train_data).mean()\n",
    "test_mrr = reciprocal_rank(model, test_data).mean()\n",
    "print('MRR: train %.2f, test %.2f.' % (train_mrr, test_mrr))\n",
    "for k in [5, 10, 15, 20]:\n",
    "    train_precision = precision_at_k(model, train_data, k=k).mean()\n",
    "    test_precision = precision_at_k(model, test_data, k=k).mean()\n",
    "    print('Precision@%d: train %.2f, test %.2f.' % (k, train_precision, test_precision))"
   ]
  },
  {
   "cell_type": "code",
   "execution_count": null,
   "metadata": {
    "slideshow": {
     "slide_type": "slide"
    }
   },
   "outputs": [],
   "source": [
    "# выберем информацию по жанрам фильмов\n",
    "movies_genres = ratings[[\"movieId\", \"movie_id\"]].drop_duplicates().join(\n",
    "    movies,\n",
    "    on=\"movieId\",\n",
    "    rsuffix=\"codes\",\n",
    "    lsuffix=\"movies\",\n",
    "    sort=True\n",
    ").fillna(\"None\")[[\"movie_id\", \"genres\"]]\n",
    "movies_genres[\"genres_set\"] = movies_genres[\"genres\"].apply(lambda x: set(x.split(\"|\")))\n",
    "movies_genres.head()"
   ]
  },
  {
   "cell_type": "code",
   "execution_count": null,
   "metadata": {
    "slideshow": {
     "slide_type": "slide"
    }
   },
   "outputs": [],
   "source": [
    "# все возможные жанры\n",
    "from functools import reduce\n",
    "\n",
    "reduce(lambda acc, ele: acc.union(ele), movies_genres[\"genres_set\"].tolist(), set())"
   ]
  },
  {
   "cell_type": "code",
   "execution_count": null,
   "metadata": {
    "slideshow": {
     "slide_type": "slide"
    }
   },
   "outputs": [],
   "source": [
    "from sklearn.feature_extraction.text import CountVectorizer\n",
    "\n",
    "# приравняем None и (no genres listed)\n",
    "movies_genres.loc[movies_genres[\"genres\"] == \"(no genres listed)\", \"genres\"] = \"None\"\n",
    "# уберём все спецсимволы, кроме |\n",
    "movies_genres[\"genres\"] = movies_genres[\"genres\"].apply(\n",
    "    lambda x: x.replace(\"-\", \"\")\n",
    ")\n",
    "\n",
    "movies_features = CountVectorizer().fit_transform(movies_genres[\"genres\"])\n",
    "movies_features"
   ]
  },
  {
   "cell_type": "code",
   "execution_count": null,
   "metadata": {
    "slideshow": {
     "slide_type": "slide"
    }
   },
   "outputs": [],
   "source": [
    "print(movies_genres[\"genres\"][:1])\n",
    "print(movies_features[0].todense())"
   ]
  },
  {
   "cell_type": "code",
   "execution_count": null,
   "metadata": {
    "collapsed": true,
    "slideshow": {
     "slide_type": "slide"
    }
   },
   "outputs": [],
   "source": [
    "# добавляем к movie_id ещё и информацию о жанрах\n",
    "from scipy.sparse import hstack, identity\n",
    "\n",
    "features = hstack([\n",
    "    identity(movies_genres.shape[0]),\n",
    "    movies_features\n",
    "])"
   ]
  },
  {
   "cell_type": "code",
   "execution_count": null,
   "metadata": {},
   "outputs": [],
   "source": [
    "features"
   ]
  },
  {
   "cell_type": "code",
   "execution_count": null,
   "metadata": {
    "slideshow": {
     "slide_type": "slide"
    }
   },
   "outputs": [],
   "source": [
    "# обучаем модель с жанрами\n",
    "hybrid = LightFM(loss=\"bpr\")\n",
    "hybrid.fit(\n",
    "    train_data,\n",
    "    num_threads=4,\n",
    "    item_features=features\n",
    ")\n",
    "\n",
    "train_mrr = auc_score(hybrid, train_data, item_features=features).mean()\n",
    "test_mrr = auc_score(hybrid, test_data, item_features=features).mean()\n",
    "print('MRR: train %.2f, test %.2f.' % (train_mrr, test_mrr))\n",
    "#for k in [5, 10, 15, 20]:\n",
    "    #train_precision = precision_at_k(hybrid, train_data, item_features=features, k=k).mean()\n",
    "    #test_precision = precision_at_k(hybrid, test_data, item_features=features, k=k).mean()\n",
    "#print('Precision@%d: train %.2f, test %.2f.' % (k, train_precision, test_precision))"
   ]
  },
  {
   "cell_type": "code",
   "execution_count": null,
   "metadata": {
    "collapsed": true
   },
   "outputs": [],
   "source": []
  }
 ],
 "metadata": {
  "kernelspec": {
   "display_name": "Python 3",
   "language": "python",
   "name": "python3"
  },
  "language_info": {
   "codemirror_mode": {
    "name": "ipython",
    "version": 3
   },
   "file_extension": ".py",
   "mimetype": "text/x-python",
   "name": "python",
   "nbconvert_exporter": "python",
   "pygments_lexer": "ipython3",
   "version": "3.6.2"
  }
 },
 "nbformat": 4,
 "nbformat_minor": 1
}
