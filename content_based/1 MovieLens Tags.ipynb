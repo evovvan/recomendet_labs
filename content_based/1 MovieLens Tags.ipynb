{
 "cells": [
  {
   "cell_type": "markdown",
   "metadata": {},
   "source": [
    "## Добрый день если вы это читаете значит я не успел сделать третью лабу до того как вы её проверите."
   ]
  },
  {
   "cell_type": "code",
   "execution_count": 1,
   "metadata": {
    "collapsed": true,
    "slideshow": {
     "slide_type": "slide"
    }
   },
   "outputs": [],
   "source": [
    "# считывает MovieLens\n",
    "from os import path\n",
    "import pandas as pd\n",
    "\n",
    "data_dir = \"./ml-latest-small\"\n",
    "\n",
    "def read_csv(filename: str):\n",
    "    data = pd.read_csv(path.join(data_dir, filename + \".csv\"))\n",
    "    return data\n",
    "\n"
   ]
  },
  {
   "cell_type": "code",
   "execution_count": 2,
   "metadata": {},
   "outputs": [
    {
     "data": {
      "text/html": [
       "<div>\n",
       "<style>\n",
       "    .dataframe thead tr:only-child th {\n",
       "        text-align: right;\n",
       "    }\n",
       "\n",
       "    .dataframe thead th {\n",
       "        text-align: left;\n",
       "    }\n",
       "\n",
       "    .dataframe tbody tr th {\n",
       "        vertical-align: top;\n",
       "    }\n",
       "</style>\n",
       "<table border=\"1\" class=\"dataframe\">\n",
       "  <thead>\n",
       "    <tr style=\"text-align: right;\">\n",
       "      <th></th>\n",
       "      <th>movieId</th>\n",
       "      <th>title</th>\n",
       "      <th>genres</th>\n",
       "    </tr>\n",
       "  </thead>\n",
       "  <tbody>\n",
       "    <tr>\n",
       "      <th>0</th>\n",
       "      <td>1</td>\n",
       "      <td>Toy Story (1995)</td>\n",
       "      <td>Adventure|Animation|Children|Comedy|Fantasy</td>\n",
       "    </tr>\n",
       "    <tr>\n",
       "      <th>1</th>\n",
       "      <td>2</td>\n",
       "      <td>Jumanji (1995)</td>\n",
       "      <td>Adventure|Children|Fantasy</td>\n",
       "    </tr>\n",
       "    <tr>\n",
       "      <th>2</th>\n",
       "      <td>3</td>\n",
       "      <td>Grumpier Old Men (1995)</td>\n",
       "      <td>Comedy|Romance</td>\n",
       "    </tr>\n",
       "    <tr>\n",
       "      <th>3</th>\n",
       "      <td>4</td>\n",
       "      <td>Waiting to Exhale (1995)</td>\n",
       "      <td>Comedy|Drama|Romance</td>\n",
       "    </tr>\n",
       "    <tr>\n",
       "      <th>4</th>\n",
       "      <td>5</td>\n",
       "      <td>Father of the Bride Part II (1995)</td>\n",
       "      <td>Comedy</td>\n",
       "    </tr>\n",
       "  </tbody>\n",
       "</table>\n",
       "</div>"
      ],
      "text/plain": [
       "   movieId                               title  \\\n",
       "0        1                    Toy Story (1995)   \n",
       "1        2                      Jumanji (1995)   \n",
       "2        3             Grumpier Old Men (1995)   \n",
       "3        4            Waiting to Exhale (1995)   \n",
       "4        5  Father of the Bride Part II (1995)   \n",
       "\n",
       "                                        genres  \n",
       "0  Adventure|Animation|Children|Comedy|Fantasy  \n",
       "1                   Adventure|Children|Fantasy  \n",
       "2                               Comedy|Romance  \n",
       "3                         Comedy|Drama|Romance  \n",
       "4                                       Comedy  "
      ]
     },
     "execution_count": 2,
     "metadata": {},
     "output_type": "execute_result"
    }
   ],
   "source": [
    "movies = read_csv(\"movies\")\n",
    "movies.head()"
   ]
  },
  {
   "cell_type": "code",
   "execution_count": 3,
   "metadata": {},
   "outputs": [
    {
     "data": {
      "text/html": [
       "<div>\n",
       "<style>\n",
       "    .dataframe thead tr:only-child th {\n",
       "        text-align: right;\n",
       "    }\n",
       "\n",
       "    .dataframe thead th {\n",
       "        text-align: left;\n",
       "    }\n",
       "\n",
       "    .dataframe tbody tr th {\n",
       "        vertical-align: top;\n",
       "    }\n",
       "</style>\n",
       "<table border=\"1\" class=\"dataframe\">\n",
       "  <thead>\n",
       "    <tr style=\"text-align: right;\">\n",
       "      <th></th>\n",
       "      <th>movieId</th>\n",
       "    </tr>\n",
       "  </thead>\n",
       "  <tbody>\n",
       "    <tr>\n",
       "      <th>count</th>\n",
       "      <td>9125.000000</td>\n",
       "    </tr>\n",
       "    <tr>\n",
       "      <th>mean</th>\n",
       "      <td>31123.291836</td>\n",
       "    </tr>\n",
       "    <tr>\n",
       "      <th>std</th>\n",
       "      <td>40782.633604</td>\n",
       "    </tr>\n",
       "    <tr>\n",
       "      <th>min</th>\n",
       "      <td>1.000000</td>\n",
       "    </tr>\n",
       "    <tr>\n",
       "      <th>25%</th>\n",
       "      <td>2850.000000</td>\n",
       "    </tr>\n",
       "    <tr>\n",
       "      <th>50%</th>\n",
       "      <td>6290.000000</td>\n",
       "    </tr>\n",
       "    <tr>\n",
       "      <th>75%</th>\n",
       "      <td>56274.000000</td>\n",
       "    </tr>\n",
       "    <tr>\n",
       "      <th>max</th>\n",
       "      <td>164979.000000</td>\n",
       "    </tr>\n",
       "  </tbody>\n",
       "</table>\n",
       "</div>"
      ],
      "text/plain": [
       "             movieId\n",
       "count    9125.000000\n",
       "mean    31123.291836\n",
       "std     40782.633604\n",
       "min         1.000000\n",
       "25%      2850.000000\n",
       "50%      6290.000000\n",
       "75%     56274.000000\n",
       "max    164979.000000"
      ]
     },
     "execution_count": 3,
     "metadata": {},
     "output_type": "execute_result"
    }
   ],
   "source": [
    "movies.describe()"
   ]
  },
  {
   "cell_type": "code",
   "execution_count": 4,
   "metadata": {},
   "outputs": [
    {
     "data": {
      "text/html": [
       "<div>\n",
       "<style>\n",
       "    .dataframe thead tr:only-child th {\n",
       "        text-align: right;\n",
       "    }\n",
       "\n",
       "    .dataframe thead th {\n",
       "        text-align: left;\n",
       "    }\n",
       "\n",
       "    .dataframe tbody tr th {\n",
       "        vertical-align: top;\n",
       "    }\n",
       "</style>\n",
       "<table border=\"1\" class=\"dataframe\">\n",
       "  <thead>\n",
       "    <tr style=\"text-align: right;\">\n",
       "      <th></th>\n",
       "      <th>userId</th>\n",
       "      <th>movieId</th>\n",
       "      <th>tag</th>\n",
       "      <th>timestamp</th>\n",
       "    </tr>\n",
       "  </thead>\n",
       "  <tbody>\n",
       "    <tr>\n",
       "      <th>0</th>\n",
       "      <td>15</td>\n",
       "      <td>339</td>\n",
       "      <td>sandra 'boring' bullock</td>\n",
       "      <td>1138537770</td>\n",
       "    </tr>\n",
       "    <tr>\n",
       "      <th>1</th>\n",
       "      <td>15</td>\n",
       "      <td>1955</td>\n",
       "      <td>dentist</td>\n",
       "      <td>1193435061</td>\n",
       "    </tr>\n",
       "    <tr>\n",
       "      <th>2</th>\n",
       "      <td>15</td>\n",
       "      <td>7478</td>\n",
       "      <td>Cambodia</td>\n",
       "      <td>1170560997</td>\n",
       "    </tr>\n",
       "    <tr>\n",
       "      <th>3</th>\n",
       "      <td>15</td>\n",
       "      <td>32892</td>\n",
       "      <td>Russian</td>\n",
       "      <td>1170626366</td>\n",
       "    </tr>\n",
       "    <tr>\n",
       "      <th>4</th>\n",
       "      <td>15</td>\n",
       "      <td>34162</td>\n",
       "      <td>forgettable</td>\n",
       "      <td>1141391765</td>\n",
       "    </tr>\n",
       "  </tbody>\n",
       "</table>\n",
       "</div>"
      ],
      "text/plain": [
       "   userId  movieId                      tag   timestamp\n",
       "0      15      339  sandra 'boring' bullock  1138537770\n",
       "1      15     1955                  dentist  1193435061\n",
       "2      15     7478                 Cambodia  1170560997\n",
       "3      15    32892                  Russian  1170626366\n",
       "4      15    34162              forgettable  1141391765"
      ]
     },
     "execution_count": 4,
     "metadata": {},
     "output_type": "execute_result"
    }
   ],
   "source": [
    "tags = read_csv(\"tags\")\n"
   ]
  },
  {
   "cell_type": "code",
   "execution_count": 5,
   "metadata": {},
   "outputs": [
    {
     "data": {
      "text/html": [
       "<div>\n",
       "<style>\n",
       "    .dataframe thead tr:only-child th {\n",
       "        text-align: right;\n",
       "    }\n",
       "\n",
       "    .dataframe thead th {\n",
       "        text-align: left;\n",
       "    }\n",
       "\n",
       "    .dataframe tbody tr th {\n",
       "        vertical-align: top;\n",
       "    }\n",
       "</style>\n",
       "<table border=\"1\" class=\"dataframe\">\n",
       "  <thead>\n",
       "    <tr style=\"text-align: right;\">\n",
       "      <th></th>\n",
       "      <th>userId</th>\n",
       "      <th>movieId</th>\n",
       "      <th>timestamp</th>\n",
       "    </tr>\n",
       "  </thead>\n",
       "  <tbody>\n",
       "    <tr>\n",
       "      <th>count</th>\n",
       "      <td>1296.000000</td>\n",
       "      <td>1296.000000</td>\n",
       "      <td>1.296000e+03</td>\n",
       "    </tr>\n",
       "    <tr>\n",
       "      <th>mean</th>\n",
       "      <td>417.026235</td>\n",
       "      <td>42278.949846</td>\n",
       "      <td>1.324337e+09</td>\n",
       "    </tr>\n",
       "    <tr>\n",
       "      <th>std</th>\n",
       "      <td>142.183440</td>\n",
       "      <td>44628.345568</td>\n",
       "      <td>1.093886e+08</td>\n",
       "    </tr>\n",
       "    <tr>\n",
       "      <th>min</th>\n",
       "      <td>15.000000</td>\n",
       "      <td>1.000000</td>\n",
       "      <td>1.137217e+09</td>\n",
       "    </tr>\n",
       "    <tr>\n",
       "      <th>25%</th>\n",
       "      <td>346.000000</td>\n",
       "      <td>2988.000000</td>\n",
       "      <td>1.243455e+09</td>\n",
       "    </tr>\n",
       "    <tr>\n",
       "      <th>50%</th>\n",
       "      <td>431.000000</td>\n",
       "      <td>26958.500000</td>\n",
       "      <td>1.342849e+09</td>\n",
       "    </tr>\n",
       "    <tr>\n",
       "      <th>75%</th>\n",
       "      <td>547.000000</td>\n",
       "      <td>72268.250000</td>\n",
       "      <td>1.440380e+09</td>\n",
       "    </tr>\n",
       "    <tr>\n",
       "      <th>max</th>\n",
       "      <td>663.000000</td>\n",
       "      <td>164979.000000</td>\n",
       "      <td>1.476651e+09</td>\n",
       "    </tr>\n",
       "  </tbody>\n",
       "</table>\n",
       "</div>"
      ],
      "text/plain": [
       "            userId        movieId     timestamp\n",
       "count  1296.000000    1296.000000  1.296000e+03\n",
       "mean    417.026235   42278.949846  1.324337e+09\n",
       "std     142.183440   44628.345568  1.093886e+08\n",
       "min      15.000000       1.000000  1.137217e+09\n",
       "25%     346.000000    2988.000000  1.243455e+09\n",
       "50%     431.000000   26958.500000  1.342849e+09\n",
       "75%     547.000000   72268.250000  1.440380e+09\n",
       "max     663.000000  164979.000000  1.476651e+09"
      ]
     },
     "execution_count": 5,
     "metadata": {},
     "output_type": "execute_result"
    }
   ],
   "source": [
    "tags.describe()"
   ]
  },
  {
   "cell_type": "code",
   "execution_count": 14,
   "metadata": {
    "collapsed": true
   },
   "outputs": [],
   "source": [
    "mov_tag = pd.merge(movies, tags, on='movieId')"
   ]
  },
  {
   "cell_type": "code",
   "execution_count": 20,
   "metadata": {},
   "outputs": [
    {
     "data": {
      "text/html": [
       "<div>\n",
       "<style>\n",
       "    .dataframe thead tr:only-child th {\n",
       "        text-align: right;\n",
       "    }\n",
       "\n",
       "    .dataframe thead th {\n",
       "        text-align: left;\n",
       "    }\n",
       "\n",
       "    .dataframe tbody tr th {\n",
       "        vertical-align: top;\n",
       "    }\n",
       "</style>\n",
       "<table border=\"1\" class=\"dataframe\">\n",
       "  <thead>\n",
       "    <tr style=\"text-align: right;\">\n",
       "      <th></th>\n",
       "      <th>movieId</th>\n",
       "      <th>userId</th>\n",
       "      <th>timestamp</th>\n",
       "      <th>movie_id</th>\n",
       "    </tr>\n",
       "  </thead>\n",
       "  <tbody>\n",
       "    <tr>\n",
       "      <th>count</th>\n",
       "      <td>1296.000000</td>\n",
       "      <td>1296.000000</td>\n",
       "      <td>1.296000e+03</td>\n",
       "      <td>1296.000000</td>\n",
       "    </tr>\n",
       "    <tr>\n",
       "      <th>mean</th>\n",
       "      <td>42278.949846</td>\n",
       "      <td>417.026235</td>\n",
       "      <td>1.324337e+09</td>\n",
       "      <td>332.236111</td>\n",
       "    </tr>\n",
       "    <tr>\n",
       "      <th>std</th>\n",
       "      <td>44628.345568</td>\n",
       "      <td>142.183440</td>\n",
       "      <td>1.093886e+08</td>\n",
       "      <td>201.761891</td>\n",
       "    </tr>\n",
       "    <tr>\n",
       "      <th>min</th>\n",
       "      <td>1.000000</td>\n",
       "      <td>15.000000</td>\n",
       "      <td>1.137217e+09</td>\n",
       "      <td>0.000000</td>\n",
       "    </tr>\n",
       "    <tr>\n",
       "      <th>25%</th>\n",
       "      <td>2988.000000</td>\n",
       "      <td>346.000000</td>\n",
       "      <td>1.243455e+09</td>\n",
       "      <td>148.750000</td>\n",
       "    </tr>\n",
       "    <tr>\n",
       "      <th>50%</th>\n",
       "      <td>26958.500000</td>\n",
       "      <td>431.000000</td>\n",
       "      <td>1.342849e+09</td>\n",
       "      <td>341.500000</td>\n",
       "    </tr>\n",
       "    <tr>\n",
       "      <th>75%</th>\n",
       "      <td>72268.250000</td>\n",
       "      <td>547.000000</td>\n",
       "      <td>1.440380e+09</td>\n",
       "      <td>496.250000</td>\n",
       "    </tr>\n",
       "    <tr>\n",
       "      <th>max</th>\n",
       "      <td>164979.000000</td>\n",
       "      <td>663.000000</td>\n",
       "      <td>1.476651e+09</td>\n",
       "      <td>688.000000</td>\n",
       "    </tr>\n",
       "  </tbody>\n",
       "</table>\n",
       "</div>"
      ],
      "text/plain": [
       "             movieId       userId     timestamp     movie_id\n",
       "count    1296.000000  1296.000000  1.296000e+03  1296.000000\n",
       "mean    42278.949846   417.026235  1.324337e+09   332.236111\n",
       "std     44628.345568   142.183440  1.093886e+08   201.761891\n",
       "min         1.000000    15.000000  1.137217e+09     0.000000\n",
       "25%      2988.000000   346.000000  1.243455e+09   148.750000\n",
       "50%     26958.500000   431.000000  1.342849e+09   341.500000\n",
       "75%     72268.250000   547.000000  1.440380e+09   496.250000\n",
       "max    164979.000000   663.000000  1.476651e+09   688.000000"
      ]
     },
     "execution_count": 20,
     "metadata": {},
     "output_type": "execute_result"
    }
   ],
   "source": [
    "mov_tag.describe()"
   ]
  },
  {
   "cell_type": "code",
   "execution_count": 18,
   "metadata": {},
   "outputs": [
    {
     "data": {
      "text/html": [
       "<div>\n",
       "<style>\n",
       "    .dataframe thead tr:only-child th {\n",
       "        text-align: right;\n",
       "    }\n",
       "\n",
       "    .dataframe thead th {\n",
       "        text-align: left;\n",
       "    }\n",
       "\n",
       "    .dataframe tbody tr th {\n",
       "        vertical-align: top;\n",
       "    }\n",
       "</style>\n",
       "<table border=\"1\" class=\"dataframe\">\n",
       "  <thead>\n",
       "    <tr style=\"text-align: right;\">\n",
       "      <th></th>\n",
       "      <th>movieId</th>\n",
       "      <th>title</th>\n",
       "      <th>genres</th>\n",
       "      <th>userId</th>\n",
       "      <th>tag</th>\n",
       "      <th>timestamp</th>\n",
       "    </tr>\n",
       "  </thead>\n",
       "  <tbody>\n",
       "    <tr>\n",
       "      <th>0</th>\n",
       "      <td>1</td>\n",
       "      <td>Toy Story (1995)</td>\n",
       "      <td>Adventure|Animation|Children|Comedy|Fantasy</td>\n",
       "      <td>501</td>\n",
       "      <td>Pixar</td>\n",
       "      <td>1292956344</td>\n",
       "    </tr>\n",
       "    <tr>\n",
       "      <th>1</th>\n",
       "      <td>5</td>\n",
       "      <td>Father of the Bride Part II (1995)</td>\n",
       "      <td>Comedy</td>\n",
       "      <td>431</td>\n",
       "      <td>steve martin</td>\n",
       "      <td>1140455432</td>\n",
       "    </tr>\n",
       "    <tr>\n",
       "      <th>2</th>\n",
       "      <td>47</td>\n",
       "      <td>Seven (a.k.a. Se7en) (1995)</td>\n",
       "      <td>Mystery|Thriller</td>\n",
       "      <td>364</td>\n",
       "      <td>biblical</td>\n",
       "      <td>1444534976</td>\n",
       "    </tr>\n",
       "    <tr>\n",
       "      <th>3</th>\n",
       "      <td>47</td>\n",
       "      <td>Seven (a.k.a. Se7en) (1995)</td>\n",
       "      <td>Mystery|Thriller</td>\n",
       "      <td>364</td>\n",
       "      <td>crime</td>\n",
       "      <td>1444534982</td>\n",
       "    </tr>\n",
       "    <tr>\n",
       "      <th>4</th>\n",
       "      <td>47</td>\n",
       "      <td>Seven (a.k.a. Se7en) (1995)</td>\n",
       "      <td>Mystery|Thriller</td>\n",
       "      <td>364</td>\n",
       "      <td>dark</td>\n",
       "      <td>1444534994</td>\n",
       "    </tr>\n",
       "    <tr>\n",
       "      <th>5</th>\n",
       "      <td>47</td>\n",
       "      <td>Seven (a.k.a. Se7en) (1995)</td>\n",
       "      <td>Mystery|Thriller</td>\n",
       "      <td>364</td>\n",
       "      <td>disturbing</td>\n",
       "      <td>1444534971</td>\n",
       "    </tr>\n",
       "    <tr>\n",
       "      <th>6</th>\n",
       "      <td>47</td>\n",
       "      <td>Seven (a.k.a. Se7en) (1995)</td>\n",
       "      <td>Mystery|Thriller</td>\n",
       "      <td>364</td>\n",
       "      <td>greed</td>\n",
       "      <td>1444534998</td>\n",
       "    </tr>\n",
       "    <tr>\n",
       "      <th>7</th>\n",
       "      <td>47</td>\n",
       "      <td>Seven (a.k.a. Se7en) (1995)</td>\n",
       "      <td>Mystery|Thriller</td>\n",
       "      <td>364</td>\n",
       "      <td>horror</td>\n",
       "      <td>1444534981</td>\n",
       "    </tr>\n",
       "    <tr>\n",
       "      <th>8</th>\n",
       "      <td>47</td>\n",
       "      <td>Seven (a.k.a. Se7en) (1995)</td>\n",
       "      <td>Mystery|Thriller</td>\n",
       "      <td>364</td>\n",
       "      <td>serial killer</td>\n",
       "      <td>1444534961</td>\n",
       "    </tr>\n",
       "    <tr>\n",
       "      <th>9</th>\n",
       "      <td>47</td>\n",
       "      <td>Seven (a.k.a. Se7en) (1995)</td>\n",
       "      <td>Mystery|Thriller</td>\n",
       "      <td>364</td>\n",
       "      <td>violent</td>\n",
       "      <td>1444534985</td>\n",
       "    </tr>\n",
       "    <tr>\n",
       "      <th>10</th>\n",
       "      <td>47</td>\n",
       "      <td>Seven (a.k.a. Se7en) (1995)</td>\n",
       "      <td>Mystery|Thriller</td>\n",
       "      <td>501</td>\n",
       "      <td>psychology</td>\n",
       "      <td>1292956276</td>\n",
       "    </tr>\n",
       "    <tr>\n",
       "      <th>11</th>\n",
       "      <td>47</td>\n",
       "      <td>Seven (a.k.a. Se7en) (1995)</td>\n",
       "      <td>Mystery|Thriller</td>\n",
       "      <td>501</td>\n",
       "      <td>twist ending</td>\n",
       "      <td>1292956362</td>\n",
       "    </tr>\n",
       "    <tr>\n",
       "      <th>12</th>\n",
       "      <td>50</td>\n",
       "      <td>Usual Suspects, The (1995)</td>\n",
       "      <td>Crime|Mystery|Thriller</td>\n",
       "      <td>364</td>\n",
       "      <td>thriller</td>\n",
       "      <td>1444534932</td>\n",
       "    </tr>\n",
       "    <tr>\n",
       "      <th>13</th>\n",
       "      <td>104</td>\n",
       "      <td>Happy Gilmore (1996)</td>\n",
       "      <td>Comedy</td>\n",
       "      <td>297</td>\n",
       "      <td>adam sandler</td>\n",
       "      <td>1318706504</td>\n",
       "    </tr>\n",
       "    <tr>\n",
       "      <th>14</th>\n",
       "      <td>111</td>\n",
       "      <td>Taxi Driver (1976)</td>\n",
       "      <td>Crime|Drama|Thriller</td>\n",
       "      <td>423</td>\n",
       "      <td>cult film</td>\n",
       "      <td>1354033605</td>\n",
       "    </tr>\n",
       "    <tr>\n",
       "      <th>15</th>\n",
       "      <td>111</td>\n",
       "      <td>Taxi Driver (1976)</td>\n",
       "      <td>Crime|Drama|Thriller</td>\n",
       "      <td>423</td>\n",
       "      <td>Martin Scorsese</td>\n",
       "      <td>1354033608</td>\n",
       "    </tr>\n",
       "    <tr>\n",
       "      <th>16</th>\n",
       "      <td>111</td>\n",
       "      <td>Taxi Driver (1976)</td>\n",
       "      <td>Crime|Drama|Thriller</td>\n",
       "      <td>423</td>\n",
       "      <td>social commentary</td>\n",
       "      <td>1354033602</td>\n",
       "    </tr>\n",
       "    <tr>\n",
       "      <th>17</th>\n",
       "      <td>150</td>\n",
       "      <td>Apollo 13 (1995)</td>\n",
       "      <td>Adventure|Drama|IMAX</td>\n",
       "      <td>23</td>\n",
       "      <td>Ron Howard</td>\n",
       "      <td>1148672905</td>\n",
       "    </tr>\n",
       "    <tr>\n",
       "      <th>18</th>\n",
       "      <td>150</td>\n",
       "      <td>Apollo 13 (1995)</td>\n",
       "      <td>Adventure|Drama|IMAX</td>\n",
       "      <td>431</td>\n",
       "      <td>tom hanks</td>\n",
       "      <td>1165548454</td>\n",
       "    </tr>\n",
       "    <tr>\n",
       "      <th>19</th>\n",
       "      <td>153</td>\n",
       "      <td>Batman Forever (1995)</td>\n",
       "      <td>Action|Adventure|Comedy|Crime</td>\n",
       "      <td>313</td>\n",
       "      <td>Ei muista</td>\n",
       "      <td>1168879424</td>\n",
       "    </tr>\n",
       "    <tr>\n",
       "      <th>20</th>\n",
       "      <td>186</td>\n",
       "      <td>Nine Months (1995)</td>\n",
       "      <td>Comedy|Romance</td>\n",
       "      <td>431</td>\n",
       "      <td>hugh grant</td>\n",
       "      <td>1140455419</td>\n",
       "    </tr>\n",
       "    <tr>\n",
       "      <th>21</th>\n",
       "      <td>215</td>\n",
       "      <td>Before Sunrise (1995)</td>\n",
       "      <td>Drama|Romance</td>\n",
       "      <td>431</td>\n",
       "      <td>ethan hawke</td>\n",
       "      <td>1165548716</td>\n",
       "    </tr>\n",
       "    <tr>\n",
       "      <th>22</th>\n",
       "      <td>215</td>\n",
       "      <td>Before Sunrise (1995)</td>\n",
       "      <td>Drama|Romance</td>\n",
       "      <td>547</td>\n",
       "      <td>holes90s</td>\n",
       "      <td>1342849999</td>\n",
       "    </tr>\n",
       "    <tr>\n",
       "      <th>23</th>\n",
       "      <td>232</td>\n",
       "      <td>Eat Drink Man Woman (Yin shi nan nu) (1994)</td>\n",
       "      <td>Comedy|Drama|Romance</td>\n",
       "      <td>364</td>\n",
       "      <td>aging</td>\n",
       "      <td>1444531181</td>\n",
       "    </tr>\n",
       "    <tr>\n",
       "      <th>24</th>\n",
       "      <td>232</td>\n",
       "      <td>Eat Drink Man Woman (Yin shi nan nu) (1994)</td>\n",
       "      <td>Comedy|Drama|Romance</td>\n",
       "      <td>364</td>\n",
       "      <td>Ang Lee</td>\n",
       "      <td>1444531177</td>\n",
       "    </tr>\n",
       "    <tr>\n",
       "      <th>25</th>\n",
       "      <td>232</td>\n",
       "      <td>Eat Drink Man Woman (Yin shi nan nu) (1994)</td>\n",
       "      <td>Comedy|Drama|Romance</td>\n",
       "      <td>364</td>\n",
       "      <td>cooking</td>\n",
       "      <td>1444531178</td>\n",
       "    </tr>\n",
       "    <tr>\n",
       "      <th>26</th>\n",
       "      <td>232</td>\n",
       "      <td>Eat Drink Man Woman (Yin shi nan nu) (1994)</td>\n",
       "      <td>Comedy|Drama|Romance</td>\n",
       "      <td>364</td>\n",
       "      <td>food</td>\n",
       "      <td>1444531186</td>\n",
       "    </tr>\n",
       "    <tr>\n",
       "      <th>27</th>\n",
       "      <td>232</td>\n",
       "      <td>Eat Drink Man Woman (Yin shi nan nu) (1994)</td>\n",
       "      <td>Comedy|Drama|Romance</td>\n",
       "      <td>364</td>\n",
       "      <td>relationships</td>\n",
       "      <td>1444531173</td>\n",
       "    </tr>\n",
       "    <tr>\n",
       "      <th>28</th>\n",
       "      <td>236</td>\n",
       "      <td>French Kiss (1995)</td>\n",
       "      <td>Action|Comedy|Romance</td>\n",
       "      <td>431</td>\n",
       "      <td>meg ryan</td>\n",
       "      <td>1140455397</td>\n",
       "    </tr>\n",
       "    <tr>\n",
       "      <th>29</th>\n",
       "      <td>246</td>\n",
       "      <td>Hoop Dreams (1994)</td>\n",
       "      <td>Documentary</td>\n",
       "      <td>431</td>\n",
       "      <td>school</td>\n",
       "      <td>1140455370</td>\n",
       "    </tr>\n",
       "  </tbody>\n",
       "</table>\n",
       "</div>"
      ],
      "text/plain": [
       "    movieId                                        title  \\\n",
       "0         1                             Toy Story (1995)   \n",
       "1         5           Father of the Bride Part II (1995)   \n",
       "2        47                  Seven (a.k.a. Se7en) (1995)   \n",
       "3        47                  Seven (a.k.a. Se7en) (1995)   \n",
       "4        47                  Seven (a.k.a. Se7en) (1995)   \n",
       "5        47                  Seven (a.k.a. Se7en) (1995)   \n",
       "6        47                  Seven (a.k.a. Se7en) (1995)   \n",
       "7        47                  Seven (a.k.a. Se7en) (1995)   \n",
       "8        47                  Seven (a.k.a. Se7en) (1995)   \n",
       "9        47                  Seven (a.k.a. Se7en) (1995)   \n",
       "10       47                  Seven (a.k.a. Se7en) (1995)   \n",
       "11       47                  Seven (a.k.a. Se7en) (1995)   \n",
       "12       50                   Usual Suspects, The (1995)   \n",
       "13      104                         Happy Gilmore (1996)   \n",
       "14      111                           Taxi Driver (1976)   \n",
       "15      111                           Taxi Driver (1976)   \n",
       "16      111                           Taxi Driver (1976)   \n",
       "17      150                             Apollo 13 (1995)   \n",
       "18      150                             Apollo 13 (1995)   \n",
       "19      153                        Batman Forever (1995)   \n",
       "20      186                           Nine Months (1995)   \n",
       "21      215                        Before Sunrise (1995)   \n",
       "22      215                        Before Sunrise (1995)   \n",
       "23      232  Eat Drink Man Woman (Yin shi nan nu) (1994)   \n",
       "24      232  Eat Drink Man Woman (Yin shi nan nu) (1994)   \n",
       "25      232  Eat Drink Man Woman (Yin shi nan nu) (1994)   \n",
       "26      232  Eat Drink Man Woman (Yin shi nan nu) (1994)   \n",
       "27      232  Eat Drink Man Woman (Yin shi nan nu) (1994)   \n",
       "28      236                           French Kiss (1995)   \n",
       "29      246                           Hoop Dreams (1994)   \n",
       "\n",
       "                                         genres  userId                tag  \\\n",
       "0   Adventure|Animation|Children|Comedy|Fantasy     501              Pixar   \n",
       "1                                        Comedy     431       steve martin   \n",
       "2                              Mystery|Thriller     364           biblical   \n",
       "3                              Mystery|Thriller     364              crime   \n",
       "4                              Mystery|Thriller     364               dark   \n",
       "5                              Mystery|Thriller     364         disturbing   \n",
       "6                              Mystery|Thriller     364              greed   \n",
       "7                              Mystery|Thriller     364             horror   \n",
       "8                              Mystery|Thriller     364      serial killer   \n",
       "9                              Mystery|Thriller     364            violent   \n",
       "10                             Mystery|Thriller     501         psychology   \n",
       "11                             Mystery|Thriller     501       twist ending   \n",
       "12                       Crime|Mystery|Thriller     364           thriller   \n",
       "13                                       Comedy     297       adam sandler   \n",
       "14                         Crime|Drama|Thriller     423          cult film   \n",
       "15                         Crime|Drama|Thriller     423    Martin Scorsese   \n",
       "16                         Crime|Drama|Thriller     423  social commentary   \n",
       "17                         Adventure|Drama|IMAX      23         Ron Howard   \n",
       "18                         Adventure|Drama|IMAX     431          tom hanks   \n",
       "19                Action|Adventure|Comedy|Crime     313          Ei muista   \n",
       "20                               Comedy|Romance     431         hugh grant   \n",
       "21                                Drama|Romance     431        ethan hawke   \n",
       "22                                Drama|Romance     547           holes90s   \n",
       "23                         Comedy|Drama|Romance     364              aging   \n",
       "24                         Comedy|Drama|Romance     364            Ang Lee   \n",
       "25                         Comedy|Drama|Romance     364            cooking   \n",
       "26                         Comedy|Drama|Romance     364               food   \n",
       "27                         Comedy|Drama|Romance     364      relationships   \n",
       "28                        Action|Comedy|Romance     431           meg ryan   \n",
       "29                                  Documentary     431             school   \n",
       "\n",
       "     timestamp  \n",
       "0   1292956344  \n",
       "1   1140455432  \n",
       "2   1444534976  \n",
       "3   1444534982  \n",
       "4   1444534994  \n",
       "5   1444534971  \n",
       "6   1444534998  \n",
       "7   1444534981  \n",
       "8   1444534961  \n",
       "9   1444534985  \n",
       "10  1292956276  \n",
       "11  1292956362  \n",
       "12  1444534932  \n",
       "13  1318706504  \n",
       "14  1354033605  \n",
       "15  1354033608  \n",
       "16  1354033602  \n",
       "17  1148672905  \n",
       "18  1165548454  \n",
       "19  1168879424  \n",
       "20  1140455419  \n",
       "21  1165548716  \n",
       "22  1342849999  \n",
       "23  1444531181  \n",
       "24  1444531177  \n",
       "25  1444531178  \n",
       "26  1444531186  \n",
       "27  1444531173  \n",
       "28  1140455397  \n",
       "29  1140455370  "
      ]
     },
     "execution_count": 18,
     "metadata": {},
     "output_type": "execute_result"
    }
   ],
   "source": [
    "mov_tag.head(30)"
   ]
  },
  {
   "cell_type": "code",
   "execution_count": 57,
   "metadata": {},
   "outputs": [],
   "source": [
    "ratings = read_csv(\"ratings\")"
   ]
  },
  {
   "cell_type": "code",
   "execution_count": null,
   "metadata": {
    "collapsed": true
   },
   "outputs": [],
   "source": []
  },
  {
   "cell_type": "raw",
   "metadata": {
    "collapsed": true,
    "slideshow": {
     "slide_type": "slide"
    }
   },
   "source": [
    "# перекодируем id с пробелами в плотные\n",
    "mov_tag[\"movie_id\"] = mov_tag[\"movieId\"].astype(\"category\").cat.codes.copy()\n",
    "mov_tag[\"tag_id\"] = mov_tag[\"tag\"].astype(\"category\").cat.codes.copy()"
   ]
  },
  {
   "cell_type": "code",
   "execution_count": 21,
   "metadata": {
    "collapsed": true
   },
   "outputs": [],
   "source": [
    "# функция, которая красиво печатает информацию о разреженных матрицах\n",
    "from scipy.sparse import csr_matrix\n",
    "\n",
    "def sparse_info(sparse_matrix: csr_matrix) -> None:\n",
    "    print(\"Размерности матрицы: {}\".format(sparse_matrix.shape))\n",
    "    print(\"Ненулевых элементов в матрице: {}\".format(sparse_matrix.nnz))\n",
    "    print(\"Доля ненулевых элементов: {}\"\n",
    "          .format(sparse_matrix.nnz / sparse_matrix.shape[0] / sparse_matrix.shape[1])\n",
    "    )\n",
    "    print(\"Среднее значение ненулевых элементов: {}\".format(sparse_matrix.data.mean()))\n",
    "    print(\"Максимальное значение ненулевых элементов: {}\".format(sparse_matrix.data.max()))\n",
    "    print(\"Минимальное значение ненулевых элементов: {}\".format(sparse_matrix.data.min()))"
   ]
  },
  {
   "cell_type": "code",
   "execution_count": 22,
   "metadata": {
    "collapsed": true
   },
   "outputs": [],
   "source": [
    "from scipy.sparse import csr_matrix\n",
    "import numpy as np\n"
   ]
  },
  {
   "cell_type": "code",
   "execution_count": 24,
   "metadata": {},
   "outputs": [],
   "source": [
    "last_movie_id = mov_tag[\"movie_id\"].max()\n",
    "last_tag_id = mov_tag[\"movie_id\"].max()"
   ]
  },
  {
   "cell_type": "code",
   "execution_count": 30,
   "metadata": {
    "slideshow": {
     "slide_type": "slide"
    }
   },
   "outputs": [
    {
     "data": {
      "text/plain": [
       "array([[0, 'Pixar'],\n",
       "       [1, 'steve martin'],\n",
       "       [2, 'biblical'],\n",
       "       ..., \n",
       "       [686, 'toplist16'],\n",
       "       [687, 'tivo'],\n",
       "       [688, 'tivo']], dtype=object)"
      ]
     },
     "execution_count": 30,
     "metadata": {},
     "output_type": "execute_result"
    }
   ],
   "source": [
    "# переводим матрицу взаимодействий пользователей и объектов к разреженному виду\n",
    "from scipy.sparse import csr_matrix\n",
    "import numpy as np\n",
    "\n",
    "\n",
    "\n",
    "\n",
    "movie_x_tag = mov_tag[[\"movie_id\", \"tag\"]].as_matrix()\n",
    "movie_x_tag\n"
   ]
  },
  {
   "cell_type": "code",
   "execution_count": 54,
   "metadata": {},
   "outputs": [],
   "source": [
    "data = []\n",
    "for i in mov_tag['tag']:\n",
    "    data.append(1)\n"
   ]
  },
  {
   "cell_type": "code",
   "execution_count": 67,
   "metadata": {},
   "outputs": [],
   "source": [
    "from scipy.sparse import coo_matrix\n",
    "import numpy as np\n",
    "movie_tag_matrix = coo_matrix((\n",
    "    data,\n",
    "    (\n",
    "        mov_tag[\"movie_id\"],\n",
    "        mov_tag[\"tag_id\"]\n",
    "    )\n",
    "))"
   ]
  },
  {
   "cell_type": "code",
   "execution_count": 58,
   "metadata": {
    "collapsed": true
   },
   "outputs": [],
   "source": [
    "test_indices = np.random.choice(\n",
    "    ratings.index.values,\n",
    "    replace=False,\n",
    "    size=int(len(ratings.index.values) * 0.2)\n",
    ")\n",
    "test_data = ratings.iloc[test_indices]\n",
    "train_data = ratings.drop(test_indices)"
   ]
  },
  {
   "cell_type": "code",
   "execution_count": 61,
   "metadata": {},
   "outputs": [
    {
     "data": {
      "text/plain": [
       "(80004, 4)"
      ]
     },
     "execution_count": 61,
     "metadata": {},
     "output_type": "execute_result"
    }
   ],
   "source": [
    "train_data.shape"
   ]
  },
  {
   "cell_type": "code",
   "execution_count": 68,
   "metadata": {},
   "outputs": [
    {
     "name": "stdout",
     "output_type": "stream",
     "text": [
      "Размерности матрицы: (689, 582)\n",
      "Ненулевых элементов в матрице: 1296\n",
      "Доля ненулевых элементов: 0.0032319363188843832\n",
      "Среднее значение ненулевых элементов: 1.0\n",
      "Максимальное значение ненулевых элементов: 1\n",
      "Минимальное значение ненулевых элементов: 1\n"
     ]
    }
   ],
   "source": [
    "sparse_info(movie_tag_matrix)"
   ]
  },
  {
   "cell_type": "code",
   "execution_count": 70,
   "metadata": {},
   "outputs": [
    {
     "name": "stderr",
     "output_type": "stream",
     "text": [
      "WARNING:root:OpenBLAS detected. Its highly recommend to set the environment variable 'export OPENBLAS_NUM_THREADS=1' to disable its internal multithreading\n"
     ]
    },
    {
     "name": "stdout",
     "output_type": "stream",
     "text": [
      "строим матрицу схожести по ALS\n",
      "построили матрицу схожести по ALS за 2.5817790031433105 секунд\n"
     ]
    }
   ],
   "source": [
    "# train the model on a sparse matrix of item/user/confidence weights\n",
    "import implicit\n",
    "import time\n",
    "start = time.time()\n",
    "model = implicit.als.AlternatingLeastSquares(factors=50, iterations=50, regularization=0.01)\n",
    "print(\"строим матрицу схожести по ALS\")\n",
    "model.fit(movie_tag_matrix)\n",
    "print(\"построили матрицу схожести по ALS за {} секунд\".format(\n",
    "        time.time() - start))"
   ]
  },
  {
   "cell_type": "code",
   "execution_count": null,
   "metadata": {
    "collapsed": true
   },
   "outputs": [],
   "source": [
    "pre = []\n",
    "print(\"получаем рекомендации для всех пользователей\")\n",
    "start = time.time()\n",
    "user_plays = plays.T.tocsr()\n",
    "for user_id in test_data[\"user_id\"].unique():\n",
    "    for artist_id, score in model.recommend(user_id, user_plays):\n",
    "         pre.append((user_id, artist_id, score))\n",
    "print(\"получили рекомендации для всех пользователей за {} секнуд\".format(\n",
    "        time.time() - start))"
   ]
  },
  {
   "cell_type": "code",
   "execution_count": null,
   "metadata": {
    "collapsed": true
   },
   "outputs": [],
   "source": []
  },
  {
   "cell_type": "code",
   "execution_count": null,
   "metadata": {
    "collapsed": true
   },
   "outputs": [],
   "source": []
  },
  {
   "cell_type": "code",
   "execution_count": null,
   "metadata": {
    "collapsed": true
   },
   "outputs": [],
   "source": []
  },
  {
   "cell_type": "code",
   "execution_count": null,
   "metadata": {
    "slideshow": {
     "slide_type": "slide"
    }
   },
   "outputs": [],
   "source": [
    "from lightfm import LightFM\n",
    "from lightfm.evaluation import precision_at_k, reciprocal_rank\n",
    "\n",
    "# обучаем абы какую модель\n",
    "model = LightFM(loss=\"bpr\")\n",
    "model.fit(\n",
    "    train_data,\n",
    "    num_threads=4\n",
    ")\n",
    "\n",
    "train_mrr = reciprocal_rank(model, train_data).mean()\n",
    "test_mrr = reciprocal_rank(model, test_data).mean()\n",
    "print('MRR: train %.2f, test %.2f.' % (train_mrr, test_mrr))\n",
    "for k in [5, 10, 15, 20]:\n",
    "    train_precision = precision_at_k(model, train_data, k=k).mean()\n",
    "    test_precision = precision_at_k(model, test_data, k=k).mean()\n",
    "    print('Precision@%d: train %.2f, test %.2f.' % (k, train_precision, test_precision))"
   ]
  },
  {
   "cell_type": "code",
   "execution_count": null,
   "metadata": {
    "slideshow": {
     "slide_type": "slide"
    }
   },
   "outputs": [],
   "source": [
    "# выберем информацию по жанрам фильмов\n",
    "movies_genres = ratings[[\"movieId\", \"movie_id\"]].drop_duplicates().join(\n",
    "    movies,\n",
    "    on=\"movieId\",\n",
    "    rsuffix=\"codes\",\n",
    "    lsuffix=\"movies\",\n",
    "    sort=True\n",
    ").fillna(\"None\")[[\"movie_id\", \"genres\"]]\n",
    "movies_genres[\"genres_set\"] = movies_genres[\"genres\"].apply(lambda x: set(x.split(\"|\")))\n",
    "movies_genres.head()"
   ]
  },
  {
   "cell_type": "code",
   "execution_count": null,
   "metadata": {
    "slideshow": {
     "slide_type": "slide"
    }
   },
   "outputs": [],
   "source": [
    "# все возможные жанры\n",
    "from functools import reduce\n",
    "\n",
    "reduce(lambda acc, ele: acc.union(ele), movies_genres[\"genres_set\"].tolist(), set())"
   ]
  },
  {
   "cell_type": "code",
   "execution_count": null,
   "metadata": {
    "slideshow": {
     "slide_type": "slide"
    }
   },
   "outputs": [],
   "source": [
    "from sklearn.feature_extraction.text import CountVectorizer\n",
    "\n",
    "# приравняем None и (no genres listed)\n",
    "movies_genres.loc[movies_genres[\"genres\"] == \"(no genres listed)\", \"genres\"] = \"None\"\n",
    "# уберём все спецсимволы, кроме |\n",
    "movies_genres[\"genres\"] = movies_genres[\"genres\"].apply(\n",
    "    lambda x: x.replace(\"-\", \"\")\n",
    ")\n",
    "\n",
    "movies_features = CountVectorizer().fit_transform(movies_genres[\"genres\"])\n",
    "movies_features"
   ]
  },
  {
   "cell_type": "code",
   "execution_count": null,
   "metadata": {
    "slideshow": {
     "slide_type": "slide"
    }
   },
   "outputs": [],
   "source": [
    "print(movies_genres[\"genres\"][:1])\n",
    "print(movies_features[0].todense())"
   ]
  },
  {
   "cell_type": "code",
   "execution_count": null,
   "metadata": {
    "collapsed": true,
    "slideshow": {
     "slide_type": "slide"
    }
   },
   "outputs": [],
   "source": [
    "# добавляем к movie_id ещё и информацию о жанрах\n",
    "from scipy.sparse import hstack, identity\n",
    "\n",
    "features = hstack([\n",
    "    identity(movies_genres.shape[0]),\n",
    "    movies_features\n",
    "])"
   ]
  },
  {
   "cell_type": "code",
   "execution_count": null,
   "metadata": {},
   "outputs": [],
   "source": [
    "features"
   ]
  },
  {
   "cell_type": "code",
   "execution_count": null,
   "metadata": {
    "slideshow": {
     "slide_type": "slide"
    }
   },
   "outputs": [],
   "source": [
    "# обучаем модель с жанрами\n",
    "hybrid = LightFM(loss=\"bpr\")\n",
    "hybrid.fit(\n",
    "    train_data,\n",
    "    num_threads=4,\n",
    "    item_features=features\n",
    ")\n",
    "\n",
    "train_mrr = auc_score(hybrid, train_data, item_features=features).mean()\n",
    "test_mrr = auc_score(hybrid, test_data, item_features=features).mean()\n",
    "print('MRR: train %.2f, test %.2f.' % (train_mrr, test_mrr))\n",
    "#for k in [5, 10, 15, 20]:\n",
    "    #train_precision = precision_at_k(hybrid, train_data, item_features=features, k=k).mean()\n",
    "    #test_precision = precision_at_k(hybrid, test_data, item_features=features, k=k).mean()\n",
    "#print('Precision@%d: train %.2f, test %.2f.' % (k, train_precision, test_precision))"
   ]
  },
  {
   "cell_type": "code",
   "execution_count": null,
   "metadata": {
    "collapsed": true
   },
   "outputs": [],
   "source": []
  }
 ],
 "metadata": {
  "kernelspec": {
   "display_name": "Python 3",
   "language": "python",
   "name": "python3"
  },
  "language_info": {
   "codemirror_mode": {
    "name": "ipython",
    "version": 3
   },
   "file_extension": ".py",
   "mimetype": "text/x-python",
   "name": "python",
   "nbconvert_exporter": "python",
   "pygments_lexer": "ipython3",
   "version": "3.6.2"
  }
 },
 "nbformat": 4,
 "nbformat_minor": 1
}
