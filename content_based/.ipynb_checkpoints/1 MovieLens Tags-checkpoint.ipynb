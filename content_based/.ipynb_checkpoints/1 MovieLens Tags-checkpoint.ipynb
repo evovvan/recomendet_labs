{
 "cells": [
  {
   "cell_type": "code",
   "execution_count": 1,
   "metadata": {
    "collapsed": true,
    "slideshow": {
     "slide_type": "slide"
    }
   },
   "outputs": [],
   "source": [
    "# считывает MovieLens\n",
    "from os import path\n",
    "import pandas as pd\n",
    "\n",
    "data_dir = \"./ml-latest-small\"\n",
    "\n",
    "def read_csv(filename: str):\n",
    "    data = pd.read_csv(path.join(data_dir, filename + \".csv\"))\n",
    "    return data\n",
    "\n",
    "ratings = read_csv(\"ratings\")\n",
    "movies = read_csv(\"movies\")\n",
    "tags = read_csv(\"tags\")"
   ]
  },
  {
   "cell_type": "code",
   "execution_count": 21,
   "metadata": {},
   "outputs": [
    {
     "name": "stdout",
     "output_type": "stream",
     "text": [
      "<class 'pandas.core.frame.DataFrame'>\n",
      "RangeIndex: 1296 entries, 0 to 1295\n",
      "Data columns (total 6 columns):\n",
      "userId       1296 non-null int64\n",
      "movieId      1296 non-null int64\n",
      "tag          1296 non-null object\n",
      "timestamp    1296 non-null int64\n",
      "movie_id     1296 non-null int16\n",
      "tag_id       1296 non-null int16\n",
      "dtypes: int16(2), int64(3), object(1)\n",
      "memory usage: 45.6+ KB\n"
     ]
    }
   ],
   "source": [
    "tags.info()"
   ]
  },
  {
   "cell_type": "code",
   "execution_count": 8,
   "metadata": {},
   "outputs": [],
   "source": [
    "tags[\"movie_id\"] = tags[\"movieId\"].astype(\"category\").cat.codes.copy()\n",
    "tags[\"tag_id\"] = tags[\"tag\"].astype(\"category\").cat.codes.copy()"
   ]
  },
  {
   "cell_type": "code",
   "execution_count": 10,
   "metadata": {},
   "outputs": [
    {
     "data": {
      "text/html": [
       "<div>\n",
       "<style>\n",
       "    .dataframe thead tr:only-child th {\n",
       "        text-align: right;\n",
       "    }\n",
       "\n",
       "    .dataframe thead th {\n",
       "        text-align: left;\n",
       "    }\n",
       "\n",
       "    .dataframe tbody tr th {\n",
       "        vertical-align: top;\n",
       "    }\n",
       "</style>\n",
       "<table border=\"1\" class=\"dataframe\">\n",
       "  <thead>\n",
       "    <tr style=\"text-align: right;\">\n",
       "      <th></th>\n",
       "      <th>userId</th>\n",
       "      <th>movieId</th>\n",
       "      <th>tag</th>\n",
       "      <th>timestamp</th>\n",
       "      <th>movie_id</th>\n",
       "      <th>tag_id</th>\n",
       "    </tr>\n",
       "  </thead>\n",
       "  <tbody>\n",
       "    <tr>\n",
       "      <th>0</th>\n",
       "      <td>15</td>\n",
       "      <td>339</td>\n",
       "      <td>sandra 'boring' bullock</td>\n",
       "      <td>1138537770</td>\n",
       "      <td>22</td>\n",
       "      <td>464</td>\n",
       "    </tr>\n",
       "    <tr>\n",
       "      <th>1</th>\n",
       "      <td>15</td>\n",
       "      <td>1955</td>\n",
       "      <td>dentist</td>\n",
       "      <td>1193435061</td>\n",
       "      <td>104</td>\n",
       "      <td>252</td>\n",
       "    </tr>\n",
       "    <tr>\n",
       "      <th>2</th>\n",
       "      <td>15</td>\n",
       "      <td>7478</td>\n",
       "      <td>Cambodia</td>\n",
       "      <td>1170560997</td>\n",
       "      <td>301</td>\n",
       "      <td>22</td>\n",
       "    </tr>\n",
       "    <tr>\n",
       "      <th>3</th>\n",
       "      <td>15</td>\n",
       "      <td>32892</td>\n",
       "      <td>Russian</td>\n",
       "      <td>1170626366</td>\n",
       "      <td>353</td>\n",
       "      <td>121</td>\n",
       "    </tr>\n",
       "    <tr>\n",
       "      <th>4</th>\n",
       "      <td>15</td>\n",
       "      <td>34162</td>\n",
       "      <td>forgettable</td>\n",
       "      <td>1141391765</td>\n",
       "      <td>355</td>\n",
       "      <td>296</td>\n",
       "    </tr>\n",
       "  </tbody>\n",
       "</table>\n",
       "</div>"
      ],
      "text/plain": [
       "   userId  movieId                      tag   timestamp  movie_id  tag_id\n",
       "0      15      339  sandra 'boring' bullock  1138537770        22     464\n",
       "1      15     1955                  dentist  1193435061       104     252\n",
       "2      15     7478                 Cambodia  1170560997       301      22\n",
       "3      15    32892                  Russian  1170626366       353     121\n",
       "4      15    34162              forgettable  1141391765       355     296"
      ]
     },
     "execution_count": 10,
     "metadata": {},
     "output_type": "execute_result"
    }
   ],
   "source": [
    "tags.head()"
   ]
  },
  {
   "cell_type": "code",
   "execution_count": 11,
   "metadata": {
    "collapsed": true
   },
   "outputs": [],
   "source": [
    "# функция, которая красиво печатает информацию о разреженных матрицах\n",
    "from scipy.sparse import csr_matrix\n",
    "\n",
    "def sparse_info(sparse_matrix: csr_matrix) -> None:\n",
    "    print(\"Размерности матрицы: {}\".format(sparse_matrix.shape))\n",
    "    print(\"Ненулевых элементов в матрице: {}\".format(sparse_matrix.nnz))\n",
    "    print(\"Доля ненулевых элементов: {}\"\n",
    "          .format(sparse_matrix.nnz / sparse_matrix.shape[0] / sparse_matrix.shape[1])\n",
    "    )\n",
    "    print(\"Среднее значение ненулевых элементов: {}\".format(sparse_matrix.data.mean()))\n",
    "    print(\"Максимальное значение ненулевых элементов: {}\".format(sparse_matrix.data.max()))\n",
    "    print(\"Минимальное значение ненулевых элементов: {}\".format(sparse_matrix.data.min()))"
   ]
  },
  {
   "cell_type": "code",
   "execution_count": 12,
   "metadata": {
    "collapsed": true
   },
   "outputs": [],
   "source": [
    "from scipy.sparse import csr_matrix\n",
    "import numpy as np\n"
   ]
  },
  {
   "cell_type": "code",
   "execution_count": 16,
   "metadata": {
    "collapsed": true
   },
   "outputs": [],
   "source": [
    "data = []\n",
    "for i in tags[\"movie_id\"]:\n",
    "    data.append(1)\n",
    "last_movie_id = len(tags[\"movie_id\"])\n",
    "last_tag_id = len(tags[\"tag_id\"])"
   ]
  },
  {
   "cell_type": "code",
   "execution_count": 20,
   "metadata": {},
   "outputs": [
    {
     "name": "stdout",
     "output_type": "stream",
     "text": [
      "Размерности матрицы: (1297, 1297)\n",
      "Ненулевых элементов в матрице: 1272\n",
      "Доля ненулевых элементов: 0.000756148611736116\n",
      "Среднее значение ненулевых элементов: 1.0188679695129395\n",
      "Максимальное значение ненулевых элементов: 4.0\n",
      "Минимальное значение ненулевых элементов: 1.0\n"
     ]
    }
   ],
   "source": [
    "# Создаем матрицу  movies tags#\n",
    "#from scipy.sparse import coo_matrix\n",
    "#import numpy as np\n",
    "#movie_tag_matrix = coo_matrix((\n",
    "#    data,\n",
    "#    (\n",
    "#        mov_tag[\"movie_id\"],\n",
    "#        mov_tag[\"tag_id\"]\n",
    "#    )\n",
    "#))\n",
    "\n",
    "#sparse_info(movie_tag_matrix)\n",
    "\n",
    "movie_x_tag = tags[[\"movie_id\", \"tag_id\"]].as_matrix()\n",
    "mean_rating = ratings[\"rating\"].mean()\n",
    "movie_tag_matrix = csr_matrix(\n",
    "    (\n",
    "        data,\n",
    "        (\n",
    "            [pair[0] for pair in movie_x_tag],\n",
    "            [pair[1] for pair in movie_x_tag],\n",
    "        )\n",
    "    ),\n",
    "    shape=(last_movie_id + 1, last_tag_id + 1),\n",
    "    dtype=np.float32\n",
    ")\n",
    "\n",
    "sparse_info(movie_tag_matrix)"
   ]
  },
  {
   "cell_type": "code",
   "execution_count": 22,
   "metadata": {
    "collapsed": true
   },
   "outputs": [],
   "source": [
    "import implicit"
   ]
  },
  {
   "cell_type": "code",
   "execution_count": 23,
   "metadata": {},
   "outputs": [
    {
     "name": "stdout",
     "output_type": "stream",
     "text": [
      "строим матрицу схожести по косинусной мере\n",
      "построили матрицу схожести по косинусной мере за 0.012993335723876953 секунд\n",
      "Размерности матрицы: (1297, 1297)\n",
      "Ненулевых элементов в матрице: 8367\n",
      "Доля ненулевых элементов: 0.004973817165405726\n",
      "Среднее значение ненулевых элементов: 0.8192996221759413\n",
      "Максимальное значение ненулевых элементов: 1.0000000000000002\n",
      "Минимальное значение ненулевых элементов: 0.047457899787624956\n"
     ]
    }
   ],
   "source": [
    "#  Строим матрицу схожести по тегам и фильмам.\n",
    "import time\n",
    "from implicit.nearest_neighbours import CosineRecommender\n",
    "\n",
    "model_movie_tag = CosineRecommender()\n",
    "print(\"строим матрицу схожести по косинусной мере\")\n",
    "start = time.time()\n",
    "model_movie_tag.fit(movie_tag_matrix)\n",
    "print(\"построили матрицу схожести по косинусной мере за {} секунд\".format(\n",
    "        time.time() - start))\n",
    "sparse_info(model_movie_tag.similarity)"
   ]
  },
  {
   "cell_type": "code",
   "execution_count": 32,
   "metadata": {},
   "outputs": [
    {
     "name": "stdout",
     "output_type": "stream",
     "text": [
      "получаем рекомендации для всех пользователей\n",
      "получили рекомендации для всех пользователей за 0.41100406646728516 секнуд\n"
     ]
    }
   ],
   "source": [
    "# Получаем персональные рекомендации для пользователей из обучающего и тестого сетов по kNN и матрице схожести по тегам.\n",
    "output_file = open(\"pred.txt\", \"w\")\n",
    "import implicit\n",
    "print(\"получаем рекомендации для всех пользователей\")\n",
    "start = time.time()\n",
    "movie_tag_T_csr = movie_tag_matrix.T.tocsr()\n",
    "\n",
    "for movie_id in tags[\"movie_id\"].unique():\n",
    "    for movieId, score in model_movie_tag.recommend(movie_id, movie_tag_T_csr):\n",
    "        output_file.write(\"%s\\t%s\\t%s\\n\" % (userId, movieId, score))\n",
    "print(\"получили рекомендации для всех пользователей за {} секнуд\".format(\n",
    "        time.time() - start))"
   ]
  },
  {
   "cell_type": "code",
   "execution_count": 30,
   "metadata": {},
   "outputs": [
    {
     "data": {
      "text/plain": [
       "[(145, 0.40824829046386307),\n",
       " (116, 0.23570226039551589),\n",
       " (617, 0.20412414523193154),\n",
       " (279, 0.16666666666666671)]"
      ]
     },
     "execution_count": 30,
     "metadata": {},
     "output_type": "execute_result"
    }
   ],
   "source": [
    " model_movie_tag.recommend(1, movie_tag_T_csr)"
   ]
  },
  {
   "cell_type": "code",
   "execution_count": null,
   "metadata": {
    "collapsed": true
   },
   "outputs": [],
   "source": [
    "from lightfm import LightFM\n",
    "from lightfm.evaluation import precision_at_k, reciprocal_rank, recall_at_k, auc_score"
   ]
  },
  {
   "cell_type": "code",
   "execution_count": null,
   "metadata": {
    "collapsed": true
   },
   "outputs": [],
   "source": [
    "# перекодируем id с пробелами в плотные\n",
    "ratings[\"movie_id\"] = ratings[\"movieId\"].astype(\"category\").cat.codes.copy()\n",
    "ratings[\"user_id\"] = ratings[\"userId\"].astype(\"category\").cat.codes.copy()\n",
    "last_movie_id = ratings[\"movie_id\"].max()\n",
    "last_user_id = ratings[\"user_id\"].max()"
   ]
  },
  {
   "cell_type": "code",
   "execution_count": null,
   "metadata": {},
   "outputs": [],
   "source": [
    "user_x_item = ratings[[\"user_id\", \"movie_id\"]].as_matrix()\n",
    "mean_rating = ratings[\"rating\"].mean()\n",
    "user_item_matrix = csr_matrix(\n",
    "    (\n",
    "        (ratings[\"rating\"] > mean_rating).tolist(),\n",
    "        (\n",
    "            [pair[0] for pair in user_x_item],\n",
    "            [pair[1] for pair in user_x_item],\n",
    "        )\n",
    "    ),\n",
    "    shape=(last_user_id + 1, last_movie_id + 1),\n",
    "    dtype=np.float32\n",
    ")\n",
    "\n",
    "sparse_info(user_item_matrix)"
   ]
  },
  {
   "cell_type": "code",
   "execution_count": null,
   "metadata": {},
   "outputs": [],
   "source": [
    "# разобьём наблюдения на тестовую и обучающую выборки\n",
    "np.random.seed(0)\n",
    "test_indices = np.random.choice(\n",
    "    range(user_item_matrix.nnz),\n",
    "    replace=False,\n",
    "    size=int(user_item_matrix.nnz * 0.2)\n",
    ").tolist()\n",
    "train_data = user_item_matrix.copy()\n",
    "train_data.data[test_indices] = 0\n",
    "train_data.eliminate_zeros()\n",
    "print(\"размер обучающей выборки: {}\".format(train_data.nnz))\n",
    "test_data = user_item_matrix.copy()\n",
    "test_data.data[:] = 0\n",
    "test_data.data[test_indices] = user_item_matrix.data[test_indices]\n",
    "test_data.eliminate_zeros()\n",
    "print(\"размер тестовой выборки: {}\".format(test_data.nnz))"
   ]
  },
  {
   "cell_type": "code",
   "execution_count": null,
   "metadata": {},
   "outputs": [],
   "source": [
    "# обучаем  модель\n",
    "model = LightFM( \n",
    "    no_components=10,\n",
    "    k=5, n=10, \n",
    "    loss='bpr', \n",
    "    learning_rate=0.05, \n",
    "    rho=0.95, epsilon=1e-06, \n",
    "    item_alpha=0.0, user_alpha=0.0, \n",
    "    max_sampled=10, random_state=1\n",
    ")\n",
    "\n",
    "model.fit(train_data, num_threads=1)\n",
    "\n",
    "train_auc = auc_score(model, train_data).mean()\n",
    "test_auc = auc_score(model, test_data).mean()\n",
    "print('auc_score: train %.2f, test %.2f.' % (train_auc, test_auc))\n",
    "\n",
    "train_recall = recall_at_k(model, train_data).mean()\n",
    "test_recall = recall_at_k(model, test_data).mean()\n",
    "print('recall_at_k: train %.2f, test %.2f.' % (train_recall, test_recall))\n",
    "\n",
    "train_mrr = reciprocal_rank(model, train_data).mean()\n",
    "test_mrr = reciprocal_rank(model, test_data).mean()\n",
    "print('MRR: train %.2f, test %.2f.' % (train_mrr, test_mrr))\n",
    "for k in [5, 10, 15, 20]:\n",
    "    train_precision = precision_at_k(model, train_data, k=10).mean()\n",
    "    test_precision = precision_at_k(model, test_data, k=10).mean()\n",
    "    print('Precision@%d: train %.2f, test %.2f.' % (k, train_precision, test_precision))"
   ]
  },
  {
   "cell_type": "code",
   "execution_count": null,
   "metadata": {
    "collapsed": true
   },
   "outputs": [],
   "source": []
  },
  {
   "cell_type": "code",
   "execution_count": null,
   "metadata": {},
   "outputs": [],
   "source": [
    "ratings.head()"
   ]
  },
  {
   "cell_type": "code",
   "execution_count": null,
   "metadata": {},
   "outputs": [],
   "source": [
    "# выберем информацию по жанрам фильмов\n",
    "movies_tag = ratings[[\"movieId\", \"movie_id\"]].drop_duplicates().join(\n",
    "    tags,\n",
    "    on=\"movieId\",\n",
    "    rsuffix=\"codes\",\n",
    "    lsuffix=\"movies\",\n",
    "    sort=True\n",
    ").fillna(\"None\")[[\"movie_id\", \"tag\"]]\n",
    "movies_tag[\"tags_set\"] = movies_tag[\"tag\"].apply(lambda x: set(x.split(\" \")))\n",
    "movies_tag.head()"
   ]
  },
  {
   "cell_type": "code",
   "execution_count": null,
   "metadata": {},
   "outputs": [],
   "source": [
    "# все возможные теги\n",
    "from functools import reduce\n",
    "\n",
    "reduce(lambda acc, ele: acc.union(ele), movies_tag['tags_set'].tolist(), set())"
   ]
  },
  {
   "cell_type": "code",
   "execution_count": null,
   "metadata": {},
   "outputs": [],
   "source": [
    "from sklearn.feature_extraction.text import CountVectorizer\n",
    "\n",
    "# приравняем None и (no genres listed)\n",
    "movies_tag.loc[movies_tag[\"tag\"] == \"(no tags listed)\", \"tag\"] = \"None\"\n",
    "# уберём все спецсимволы\n",
    "movies_tag[\"tag\"] = movies_tag[\"tag\"].apply(\n",
    "    lambda x: x.replace(\"-\", \"\")\n",
    ")\n",
    "\n",
    "movies_features = CountVectorizer().fit_transform(movies_tag[\"tag\"])\n",
    "movies_features"
   ]
  },
  {
   "cell_type": "code",
   "execution_count": null,
   "metadata": {},
   "outputs": [],
   "source": [
    "sparse_info(test_data)"
   ]
  },
  {
   "cell_type": "code",
   "execution_count": null,
   "metadata": {},
   "outputs": [],
   "source": [
    "print(movies_tag[\"tag\"][:1])\n",
    "print(movies_features[0].todense())"
   ]
  },
  {
   "cell_type": "code",
   "execution_count": null,
   "metadata": {
    "collapsed": true
   },
   "outputs": [],
   "source": [
    "# добавляем к movie_id ещё и информацию о тегах\n",
    "from scipy.sparse import hstack, identity\n",
    "\n",
    "features = hstack([\n",
    "    identity(movies_tag.shape[0]),\n",
    "    movies_features\n",
    "])"
   ]
  },
  {
   "cell_type": "code",
   "execution_count": null,
   "metadata": {},
   "outputs": [],
   "source": [
    "features"
   ]
  },
  {
   "cell_type": "code",
   "execution_count": null,
   "metadata": {},
   "outputs": [],
   "source": [
    "hybrid = LightFM( \n",
    "    no_components=10,\n",
    "    k=5, n=10, \n",
    "    loss='bpr', \n",
    "    learning_rate=0.05, \n",
    "    rho=0.95, epsilon=1e-06, \n",
    "    item_alpha=0.0, user_alpha=0.0, \n",
    "    max_sampled=10, random_state=1\n",
    ")\n",
    "\n",
    "hybrid.fit(train_data, item_features = features, num_threads=1)\n",
    "\n",
    "train_auc = auc_score(hybrid, train_data, item_features=features).mean()\n",
    "test_auc = auc_score(hybrid, test_data, item_features=features).mean()\n",
    "print('auc_score: train %.2f, test %.2f.' % (train_auc, test_auc))\n",
    "\n",
    "train_recall = recall_at_k(hybrid, train_data, item_features=features).mean()\n",
    "test_recall = recall_at_k(hybrid, test_data, item_features=features).mean()\n",
    "print('recall_at_k: train %.2f, test %.2f.' % (train_recall, test_recall))\n",
    "\n",
    "train_mrr = reciprocal_rank(hybrid, train_data, item_features=features).mean()\n",
    "test_mrr = reciprocal_rank(hybrid, test_data, item_features=features).mean()\n",
    "print('MRR: train %.2f, test %.2f.' % (train_mrr, test_mrr))\n",
    "for k in [5, 10, 15, 20]:\n",
    "    train_precision = precision_at_k(hybrid, train_data, k=10, item_features=features).mean()\n",
    "    test_precision = precision_at_k(hybrid, test_data, k=10, item_features=features).mean()\n",
    "    print('Precision@%d: train %.2f, test %.2f.' % (k, train_precision, test_precision))"
   ]
  },
  {
   "cell_type": "code",
   "execution_count": null,
   "metadata": {
    "collapsed": true
   },
   "outputs": [],
   "source": []
  },
  {
   "cell_type": "code",
   "execution_count": null,
   "metadata": {
    "collapsed": true
   },
   "outputs": [],
   "source": []
  }
 ],
 "metadata": {
  "kernelspec": {
   "display_name": "Python 3",
   "language": "python",
   "name": "python3"
  },
  "language_info": {
   "codemirror_mode": {
    "name": "ipython",
    "version": 3
   },
   "file_extension": ".py",
   "mimetype": "text/x-python",
   "name": "python",
   "nbconvert_exporter": "python",
   "pygments_lexer": "ipython3",
   "version": "3.6.2"
  }
 },
 "nbformat": 4,
 "nbformat_minor": 1
}
